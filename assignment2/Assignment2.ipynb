{
 "cells": [
  {
   "attachments": {},
   "cell_type": "markdown",
   "metadata": {},
   "source": [
    "# Assignment 2"
   ]
  },
  {
   "attachments": {},
   "cell_type": "markdown",
   "metadata": {},
   "source": [
    "## Submit as an HTML file"
   ]
  },
  {
   "attachments": {},
   "cell_type": "markdown",
   "metadata": {},
   "source": [
    "<font size = \"5\">\n",
    "Print your name below"
   ]
  },
  {
   "cell_type": "code",
   "execution_count": 12,
   "metadata": {},
   "outputs": [],
   "source": [
    "# Write your answer\n",
    "# Eric Zhang\n"
   ]
  },
  {
   "attachments": {},
   "cell_type": "markdown",
   "metadata": {},
   "source": [
    "<font size = \"5\">\n",
    "\n",
    "(a) Import the pandas and matplotlib packages"
   ]
  },
  {
   "cell_type": "code",
   "execution_count": 13,
   "metadata": {},
   "outputs": [],
   "source": [
    "# Write your answer\n",
    "import pandas as pd\n",
    "import matplotlib.pyplot as plt"
   ]
  },
  {
   "attachments": {},
   "cell_type": "markdown",
   "metadata": {},
   "source": [
    "<font size = \"5\">\n",
    "\n",
    "(b) Open the dataset \"united_states_co2_emissions.csv\" in the \"data\" folder\n",
    "\n",
    "<font size = \"3\">\n",
    "\n",
    "- Read it as a pandas object called \"us_emissions\"\n",
    "- Note: This contains CO2 emissions (in kilotons) by the United States from 1960-2019. <br/> \n",
    "It is compiled from various sources, including the United Nations Framework Convention <br/>\n",
    "on Climate Change (UNFCCC) and the International Energy Agency (IEA)."
   ]
  },
  {
   "cell_type": "code",
   "execution_count": 18,
   "metadata": {},
   "outputs": [
    {
     "name": "stdout",
     "output_type": "stream",
     "text": [
      "    year  total_emissions\n",
      "0   1960     2.890696e+06\n",
      "1   1961     2.880506e+06\n",
      "2   1962     2.987208e+06\n",
      "3   1963     3.119231e+06\n",
      "4   1964     3.255995e+06\n",
      "5   1965     3.390923e+06\n",
      "6   1966     3.561878e+06\n",
      "7   1967     3.695709e+06\n",
      "8   1968     3.831355e+06\n",
      "9   1969     4.024749e+06\n",
      "10  1970     4.328905e+06\n",
      "11  1971     4.356770e+06\n",
      "12  1972     4.564953e+06\n",
      "13  1973     4.770195e+06\n",
      "14  1974     4.598488e+06\n",
      "15  1975     4.406330e+06\n",
      "16  1976     4.613101e+06\n",
      "17  1977     4.742293e+06\n",
      "18  1978     4.890861e+06\n",
      "19  1979     4.901796e+06\n",
      "20  1980     4.723210e+06\n",
      "21  1981     4.535800e+06\n",
      "22  1982     4.306748e+06\n",
      "23  1983     4.341878e+06\n",
      "24  1984     4.475192e+06\n",
      "25  1985     4.492555e+06\n",
      "26  1986     4.495463e+06\n",
      "27  1987     4.688373e+06\n",
      "28  1988     4.892526e+06\n",
      "29  1989     4.955081e+06\n",
      "30  1990     4.844520e+06\n",
      "31  1991     4.807500e+06\n",
      "32  1992     4.879630e+06\n",
      "33  1993     4.995210e+06\n",
      "34  1994     5.066810e+06\n",
      "35  1995     5.117040e+06\n",
      "36  1996     5.273490e+06\n",
      "37  1997     5.543350e+06\n",
      "38  1998     5.590540e+06\n",
      "39  1999     5.609020e+06\n",
      "40  2000     5.775810e+06\n",
      "41  2001     5.748260e+06\n",
      "42  2002     5.593030e+06\n",
      "43  2003     5.658990e+06\n",
      "44  2004     5.738290e+06\n",
      "45  2005     5.753490e+06\n",
      "46  2006     5.653080e+06\n",
      "47  2007     5.736320e+06\n",
      "48  2008     5.558380e+06\n",
      "49  2009     5.156430e+06\n",
      "50  2010     5.392110e+06\n",
      "51  2011     5.173600e+06\n",
      "52  2012     4.956060e+06\n",
      "53  2013     5.092100e+06\n",
      "54  2014     5.107210e+06\n",
      "55  2015     4.990710e+06\n",
      "56  2016     4.894500e+06\n",
      "57  2017     4.819370e+06\n",
      "58  2018     4.975310e+06\n",
      "59  2019     4.817720e+06\n"
     ]
    }
   ],
   "source": [
    "# Write your answer\n",
    "us_emissions = pd.read_csv('data/united_states_co2_emissions.csv')\n",
    "print(us_emissions)"
   ]
  },
  {
   "attachments": {},
   "cell_type": "markdown",
   "metadata": {},
   "source": [
    "<font size = \"5\">\n",
    "\n",
    "(c) View the dataset and create a list of variable names\n",
    "\n",
    "<font size = \"3\">\n",
    "\n",
    "- Create a list, e.g. \"variable_names = [ \"name1\", \"name2\"]\"\n",
    "\n",
    "- Manually type the names of the 2 variables\n",
    "\n"
   ]
  },
  {
   "cell_type": "code",
   "execution_count": 19,
   "metadata": {},
   "outputs": [],
   "source": [
    "# Write your answer\n",
    "\n",
    "variable_names = [\"year\", \"total_emissions\"]"
   ]
  },
  {
   "attachments": {},
   "cell_type": "markdown",
   "metadata": {},
   "source": [
    "<font size = \"5\">\n",
    "\n",
    "(d) Compute descriptive statistics for the 2nd variable in the dataset\n",
    "\n",
    "<font size = \"3\">\n",
    "\n",
    "- One way to do this is:\n",
    "\n",
    "us_emissions[\"total_emissions\"].describe()\n",
    "\n",
    "- Do something similar, but with the list you created above.\n",
    "- Substitute \"total_emissions\" with a command that automatically extracts the 2nd element in the list\n",
    "- Remember that the numbering in Python starts at zero\n",
    "- For example:\n",
    "\n",
    "list_colors = [\"red\",\"green\",\"yellow\"]\n",
    "\n",
    "list_colors[2] will output \"yellow\""
   ]
  },
  {
   "cell_type": "code",
   "execution_count": 21,
   "metadata": {},
   "outputs": [
    {
     "data": {
      "text/plain": [
       "2880505.507"
      ]
     },
     "execution_count": 21,
     "metadata": {},
     "output_type": "execute_result"
    }
   ],
   "source": [
    "# Write your answer\n",
    "\n",
    "us_emissions[\"total_emissions\"][1]"
   ]
  },
  {
   "attachments": {},
   "cell_type": "markdown",
   "metadata": {},
   "source": [
    "<font size = \"5\">\n",
    "\n",
    "(e) Import the datasets as you did in part (b) for any 2 countries from the <br/> \n",
    "\"data\" folder and create 2 scatter plots that have \"year\" in the x-axis and <br/>\n",
    "\"total_emissions\" in the y-axis.\n",
    "\n",
    "<font size = \"3\">\n",
    "\n",
    "- The \"data\" folder contains the datasets for the top 10 CO2 emitting countries\n",
    "- Label the axes for full points\n",
    "- Use \"plt.title(\"Relevant Title for Plot\")\" to label the title\n",
    "- Use \"plt.show()\" after creating each plot to ensure both are displayed\n",
    "- Note: This question does not depend on (d)"
   ]
  },
  {
   "cell_type": "code",
   "execution_count": 6,
   "metadata": {},
   "outputs": [],
   "source": [
    "# Write your answer\n",
    "\n"
   ]
  }
 ],
 "metadata": {
  "kernelspec": {
   "display_name": "base",
   "language": "python",
   "name": "python3"
  },
  "language_info": {
   "codemirror_mode": {
    "name": "ipython",
    "version": 3
   },
   "file_extension": ".py",
   "mimetype": "text/x-python",
   "name": "python",
   "nbconvert_exporter": "python",
   "pygments_lexer": "ipython3",
   "version": "3.12.7"
  },
  "orig_nbformat": 4
 },
 "nbformat": 4,
 "nbformat_minor": 2
}
